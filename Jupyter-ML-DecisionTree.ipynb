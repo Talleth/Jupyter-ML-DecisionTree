{
 "cells": [
  {
   "cell_type": "markdown",
   "id": "4fa28b84",
   "metadata": {},
   "source": [
    "# Machine Learning\n",
    "\n",
    "## Machine Learning Decision Tree\n",
    "\n",
    "This application uses a \"wireless indoor localization dataset\".  Essentially it represents wi-fi signals (1-7) and a room for each.  The algorithm will decide based on signal, which room the device lives in. \n",
    "\n",
    "The decision tree uses \"Gini impurity\" and the training algorithm is a recursive algorithm called CART, short for Classification And Regression Trees.\n",
    "\n",
    "The code is broken up by:\n",
    "\n",
    "* Example of the dataset\n",
    "* A class to define the nodes\n",
    "* A class for the CART algorith\n",
    "* An example test case\n",
    "\n",
    "At the end of the program, will atempt to predict and test results.  The information is printed to the screen.  By passing in an example record representing strength, the application will determine which room the device is in."
   ]
  },
  {
   "cell_type": "code",
   "execution_count": 60,
   "id": "b2bb1159",
   "metadata": {},
   "outputs": [],
   "source": [
    "#===================================================================\n",
    "#   Date: 10/16/2021\n",
    "#   Description - Decision Tree by Hand\n",
    "#===================================================================\n",
    "\n",
    "import numpy as np"
   ]
  },
  {
   "cell_type": "markdown",
   "id": "fa91405b",
   "metadata": {},
   "source": [
    "#### Following is an example of the data\n",
    "\n",
    "It gives 7 features representing the strength of 7 Wi-Fi signals perceived by a phone in an apartment, along with the indoor location of the phone which can be Room 1, 2, 3 or 4"
   ]
  },
  {
   "cell_type": "code",
   "execution_count": 61,
   "id": "51157c6a",
   "metadata": {},
   "outputs": [
    {
     "data": {
      "text/html": [
       "<div>\n",
       "<style scoped>\n",
       "    .dataframe tbody tr th:only-of-type {\n",
       "        vertical-align: middle;\n",
       "    }\n",
       "\n",
       "    .dataframe tbody tr th {\n",
       "        vertical-align: top;\n",
       "    }\n",
       "\n",
       "    .dataframe thead th {\n",
       "        text-align: right;\n",
       "    }\n",
       "</style>\n",
       "<table border=\"1\" class=\"dataframe\">\n",
       "  <thead>\n",
       "    <tr style=\"text-align: right;\">\n",
       "      <th></th>\n",
       "      <th>-64\\t-56\\t-61\\t-66\\t-71\\t-82\\t-81\\t1</th>\n",
       "    </tr>\n",
       "  </thead>\n",
       "  <tbody>\n",
       "    <tr>\n",
       "      <th>0</th>\n",
       "      <td>-68\\t-57\\t-61\\t-65\\t-71\\t-85\\t-85\\t1</td>\n",
       "    </tr>\n",
       "    <tr>\n",
       "      <th>1</th>\n",
       "      <td>-63\\t-60\\t-60\\t-67\\t-76\\t-85\\t-84\\t1</td>\n",
       "    </tr>\n",
       "    <tr>\n",
       "      <th>2</th>\n",
       "      <td>-61\\t-60\\t-68\\t-62\\t-77\\t-90\\t-80\\t1</td>\n",
       "    </tr>\n",
       "    <tr>\n",
       "      <th>3</th>\n",
       "      <td>-63\\t-65\\t-60\\t-63\\t-77\\t-81\\t-87\\t1</td>\n",
       "    </tr>\n",
       "    <tr>\n",
       "      <th>4</th>\n",
       "      <td>-64\\t-55\\t-63\\t-66\\t-76\\t-88\\t-83\\t1</td>\n",
       "    </tr>\n",
       "  </tbody>\n",
       "</table>\n",
       "</div>"
      ],
      "text/plain": [
       "   -64\\t-56\\t-61\\t-66\\t-71\\t-82\\t-81\\t1\n",
       "0  -68\\t-57\\t-61\\t-65\\t-71\\t-85\\t-85\\t1\n",
       "1  -63\\t-60\\t-60\\t-67\\t-76\\t-85\\t-84\\t1\n",
       "2  -61\\t-60\\t-68\\t-62\\t-77\\t-90\\t-80\\t1\n",
       "3  -63\\t-65\\t-60\\t-63\\t-77\\t-81\\t-87\\t1\n",
       "4  -64\\t-55\\t-63\\t-66\\t-76\\t-88\\t-83\\t1"
      ]
     },
     "execution_count": 61,
     "metadata": {},
     "output_type": "execute_result"
    }
   ],
   "source": [
    "# Example rows of the data\n",
    "# Show first few rows\n",
    "data = pd.read_csv('wifi_localization.txt')\n",
    "data.head()"
   ]
  },
  {
   "cell_type": "markdown",
   "id": "c19a9bd7",
   "metadata": {},
   "source": [
    "#### Binary tree with decision tree semantics\n",
    "\n",
    "Following is the binary tree node that will be used for this decision tree project."
   ]
  },
  {
   "cell_type": "code",
   "execution_count": 62,
   "id": "16c3525d",
   "metadata": {},
   "outputs": [],
   "source": [
    "# Node class, this is used by the decision tree itself\n",
    "class Node:\n",
    "    def __init__(self, predicted_class):\n",
    "        self.predicted_class = predicted_class\n",
    "        self.feature_index = 0\n",
    "        self.threshold = 0\n",
    "        self.left = None\n",
    "        self.right = None"
   ]
  },
  {
   "cell_type": "markdown",
   "id": "abe267af",
   "metadata": {},
   "source": [
    "#### Decision tree using the CART algorithm\n",
    "\n",
    "Following is the decision tree for this project.  It uses the CART algorithm."
   ]
  },
  {
   "cell_type": "code",
   "execution_count": 63,
   "id": "512ab974",
   "metadata": {},
   "outputs": [],
   "source": [
    "# Decision tree algorithm\n",
    "# Uses the above node class\n",
    "class DecisionTreeClassifier:\n",
    "    def __init__(self, max_depth=None):\n",
    "        self.max_depth = max_depth\n",
    "\n",
    "    def fit(self, X, y):\n",
    "        self.n_classes_ = len(set(y))\n",
    "        self.n_features_ = X.shape[1]\n",
    "        self.tree_ = self._grow_tree(X, y)\n",
    "\n",
    "    def predict(self, X):\n",
    "        return [self._predict(inputs) for inputs in X]\n",
    "\n",
    "    def _best_split(self, X, y):\n",
    "        m = y.size\n",
    "        if m <= 1:\n",
    "            return None, None\n",
    "        num_parent = [np.sum(y == c) for c in range(self.n_classes_)]\n",
    "        best_gini = 1.0 - sum((n / m) ** 2 for n in num_parent)\n",
    "        best_idx, best_thr = None, None\n",
    "        for idx in range(self.n_features_):\n",
    "            thresholds, classes = zip(*sorted(zip(X[:, idx], y)))\n",
    "            num_left = [0] * self.n_classes_\n",
    "            num_right = num_parent.copy()\n",
    "            for i in range(1, m):\n",
    "                c = classes[i - 1]\n",
    "                num_left[c] += 1\n",
    "                num_right[c] -= 1\n",
    "                gini_left = 1.0 - sum(\n",
    "                    (num_left[x] / i) ** 2 for x in range(self.n_classes_)\n",
    "                )\n",
    "                gini_right = 1.0 - sum(\n",
    "                    (num_right[x] / (m - i)) ** 2 for x in range(self.n_classes_)\n",
    "                )\n",
    "                gini = (i * gini_left + (m - i) * gini_right) / m\n",
    "                if thresholds[i] == thresholds[i - 1]:\n",
    "                    continue\n",
    "                if gini < best_gini:\n",
    "                    best_gini = gini\n",
    "                    best_idx = idx\n",
    "                    best_thr = (thresholds[i] + thresholds[i - 1]) / 2\n",
    "        return best_idx, best_thr\n",
    "\n",
    "    def _grow_tree(self, X, y, depth=0):\n",
    "        num_samples_per_class = [np.sum(y == i) for i in range(self.n_classes_)]\n",
    "        predicted_class = np.argmax(num_samples_per_class)\n",
    "        node = Node(predicted_class=predicted_class)\n",
    "        if depth < self.max_depth:\n",
    "            idx, thr = self._best_split(X, y)\n",
    "            if idx is not None:\n",
    "                indices_left = X[:, idx] < thr\n",
    "                X_left, y_left = X[indices_left], y[indices_left]\n",
    "                X_right, y_right = X[~indices_left], y[~indices_left]\n",
    "                node.feature_index = idx\n",
    "                node.threshold = thr\n",
    "                node.left = self._grow_tree(X_left, y_left, depth + 1)\n",
    "                node.right = self._grow_tree(X_right, y_right, depth + 1)\n",
    "        return node\n",
    "\n",
    "    # Function to predict results based on the input\n",
    "    def _predict(self, inputs):\n",
    "        node = self.tree_\n",
    "        while node.left:\n",
    "            if inputs[node.feature_index] < node.threshold:\n",
    "                node = node.left\n",
    "            else:\n",
    "                node = node.right\n",
    "        return node.predicted_class"
   ]
  },
  {
   "cell_type": "markdown",
   "id": "d598d727",
   "metadata": {},
   "source": [
    "#### Decision tree test\n",
    "\n",
    "The following code tests the decision tree.  It passes the signal record \"0, 0, 5, 1.5\" and detects which room the device is in.  In this case, room 1."
   ]
  },
  {
   "cell_type": "code",
   "execution_count": 64,
   "id": "732ab71a",
   "metadata": {},
   "outputs": [
    {
     "name": "stdout",
     "output_type": "stream",
     "text": [
      "[1]\n"
     ]
    }
   ],
   "source": [
    "# Main function that executes the test\n",
    "# Uses the DeisionTreeClassifier class from above\n",
    "\n",
    "if __name__ == \"__main__\":\n",
    "    import sys\n",
    "    from sklearn.datasets import load_iris\n",
    "\n",
    "    dataset = load_iris()\n",
    "    X, y = dataset.data, dataset.target\n",
    "    clf = DecisionTreeClassifier(max_depth=1)\n",
    "    clf.fit(X, y)\n",
    "    # Test and print results\n",
    "    print(clf.predict([[0, 0, 5, 1.5]]))"
   ]
  }
 ],
 "metadata": {
  "kernelspec": {
   "display_name": "Python 3",
   "language": "python",
   "name": "python3"
  },
  "language_info": {
   "codemirror_mode": {
    "name": "ipython",
    "version": 3
   },
   "file_extension": ".py",
   "mimetype": "text/x-python",
   "name": "python",
   "nbconvert_exporter": "python",
   "pygments_lexer": "ipython3",
   "version": "3.8.8"
  }
 },
 "nbformat": 4,
 "nbformat_minor": 5
}
